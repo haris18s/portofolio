{
 "cells": [
  {
   "cell_type": "code",
   "execution_count": 1,
   "id": "7828e235-1f34-42a0-94da-743bc948f3cb",
   "metadata": {},
   "outputs": [],
   "source": [
    "#Fresh Cortex from Adult Mouse Brain (P50) - Epi ATAC v.10 - fresh\n",
    " "
   ]
  },
  {
   "cell_type": "code",
   "execution_count": 2,
   "id": "5933486f-90a7-4fc0-b866-e93126462572",
   "metadata": {},
   "outputs": [
    {
     "name": "stdout",
     "output_type": "stream",
     "text": [
      "/opt/anaconda3/envs/VIB_model/bin/python\n"
     ]
    }
   ],
   "source": [
    "#install packages\n",
    "#!pip install pandas\n",
    "#!pip install scipy\n",
    "#!pip install pyfaidx\n",
    "#!pip install scikit-learn \n",
    "import sys\n",
    "print(sys.executable)"
   ]
  },
  {
   "cell_type": "code",
   "execution_count": 2,
   "id": "709c2c7a-9216-4a10-8df6-96a6d1aecdd8",
   "metadata": {},
   "outputs": [],
   "source": [
    "import pandas as pd\n",
    "from scipy.io import mmread\n",
    "from scipy.sparse import csr_matrix\n",
    "import numpy as np \n",
    "\n",
    "#load matrix\n",
    "matrix = mmread(\"filtered_peak_bc_matrix/matrix.mtx\").tocsc()\n",
    "\n",
    "#load peaks\n",
    "peaks = pd.read_csv(\"filtered_peak_bc_matrix/peaks.bed\", sep = \"\\t\", header = None)\n",
    "barcodes = pd.read_csv(\"filtered_peak_bc_matrix/barcodes.tsv\", header = None)\n",
    "\n",
    "#assign rows and cols\n",
    "peaks.columns = [\"chr\", \"start\", \"end\"]\n",
    "barcodes.columns = [\"cell_barcode\"]"
   ]
  },
  {
   "cell_type": "code",
   "execution_count": 3,
   "id": "6072bfa9-a3f6-4e15-81ee-9628d7f7d67d",
   "metadata": {
    "scrolled": true
   },
   "outputs": [
    {
     "name": "stdout",
     "output_type": "stream",
     "text": [
      "[[260]\n",
      " [731]\n",
      " [ 86]\n",
      " ...\n",
      " [453]\n",
      " [407]\n",
      " [ 61]]\n"
     ]
    }
   ],
   "source": [
    "matrix_binary = (matrix>0).astype(int)\n",
    "#sup per cell - how many cells have that peak accessible /peak cessible per cell - cols are cells but are not shown\n",
    "peak_accessibility = matrix_binary.sum(axis=1)\n",
    "\n",
    "print(peak_accessibility)\n",
    "#convert to A1 numpy array\n",
    "peaks_accessibility_1D = peak_accessibility.A1"
   ]
  },
  {
   "cell_type": "code",
   "execution_count": 4,
   "id": "abb7fc25-2283-4557-b6cd-79c18973df01",
   "metadata": {},
   "outputs": [],
   "source": [
    "from pyfaidx import Fasta\n",
    "#load genome  Fasta file\n",
    "genome = Fasta(\"Genomes/Mus_musculus.GRCm39.dna.primary_assembly.fa\")\n",
    "\n",
    "#replace chr as str name because in genome there is only number\n",
    "peaks['chr'] = peaks['chr'].str.replace('chr',\"\")\n",
    "#function to get sequence\n",
    "def get_sequence(row):\n",
    "    return genome[row['chr']][row['start']:row['end']].seq\n",
    "\n",
    "peaks['sequence'] = peaks.apply(get_sequence, axis=1) #aply the funcition getsequences\n",
    "\n"
   ]
  },
  {
   "cell_type": "code",
   "execution_count": 6,
   "id": "956d74cc-1750-4c9e-bc7a-c59dddc63342",
   "metadata": {},
   "outputs": [],
   "source": [
    "#Pad if seq > 150bp or trim it if is is larger\n",
    "def pad_or_trim(seq, window_size = 150):\n",
    "    seq = seq.upper()\n",
    "    if len(seq) > window_size:\n",
    "        return seq[:window_size]\n",
    "    return seq + \"N\" * (window_size - len(seq)) #Pad with Ns\n",
    "\n",
    "\n",
    "#Create one hot encoding function for the sequence\n",
    "def one_hot_encoding(sequence):\n",
    "    mapping = {\"A\":0, \"C\":1, \"G\":2, \"T\":3}\n",
    "    one_hot = np.zeros((len(sequence), 4), dtype = np.int8) #rows-len of seq, and cols 4 possible nts\n",
    "    for i, nt in enumerate(sequence.upper()):\n",
    "        if nt in mapping:\n",
    "            one_hot[i, mapping[nt]] = 1\n",
    "    return one_hot\n",
    "\n",
    "\n",
    "#add trimmed seq in the peaks \n",
    "peaks['trimmed_sequence'] = peaks['sequence'].apply(pad_or_trim)\n",
    "\n",
    "#for all seqs\n",
    "encoded_sequences = [one_hot_encoding(seq) for seq in peaks['trimmed_sequence']]\n"
   ]
  },
  {
   "cell_type": "code",
   "execution_count": 13,
   "id": "168f1108-cc1b-40d1-8880-b358ffae8811",
   "metadata": {},
   "outputs": [
    {
     "name": "stdout",
     "output_type": "stream",
     "text": [
      "(157797, 150, 4)\n"
     ]
    }
   ],
   "source": [
    "#Define a CNN model \n",
    "\n",
    "X = np.array(encoded_sequences)\n",
    "print(X.shape)\n",
    "import tensorflow as tf\n",
    "from tensorflow.keras import layers, models\n",
    "Y = peaks_accessibility_1D\n",
    "#perfrom standarization - difffernt scales in values (10-100 and 10K-20K), so correct for that \n",
    "from sklearn.preprocessing import StandardScaler\n",
    "scaler = StandardScaler()\n",
    "Y = scaler.fit_transform(peaks_accessibility_1D.reshape(-1, 1)).flatten()#-1,1 makes 2 D array bcs scalar expects 2D->flatten back again\n"
   ]
  },
  {
   "cell_type": "code",
   "execution_count": 24,
   "id": "1139a30f-1fce-4afb-a279-bb9c18cd0454",
   "metadata": {},
   "outputs": [
    {
     "data": {
      "text/html": [
       "<pre style=\"white-space:pre;overflow-x:auto;line-height:normal;font-family:Menlo,'DejaVu Sans Mono',consolas,'Courier New',monospace\"><span style=\"font-weight: bold\">Model: \"sequential_7\"</span>\n",
       "</pre>\n"
      ],
      "text/plain": [
       "\u001b[1mModel: \"sequential_7\"\u001b[0m\n"
      ]
     },
     "metadata": {},
     "output_type": "display_data"
    },
    {
     "data": {
      "text/html": [
       "<pre style=\"white-space:pre;overflow-x:auto;line-height:normal;font-family:Menlo,'DejaVu Sans Mono',consolas,'Courier New',monospace\">┏━━━━━━━━━━━━━━━━━━━━━━━━━━━━━━━━━┳━━━━━━━━━━━━━━━━━━━━━━━━┳━━━━━━━━━━━━━━━┓\n",
       "┃<span style=\"font-weight: bold\"> Layer (type)                    </span>┃<span style=\"font-weight: bold\"> Output Shape           </span>┃<span style=\"font-weight: bold\">       Param # </span>┃\n",
       "┡━━━━━━━━━━━━━━━━━━━━━━━━━━━━━━━━━╇━━━━━━━━━━━━━━━━━━━━━━━━╇━━━━━━━━━━━━━━━┩\n",
       "│ conv1d_16 (<span style=\"color: #0087ff; text-decoration-color: #0087ff\">Conv1D</span>)              │ (<span style=\"color: #00d7ff; text-decoration-color: #00d7ff\">None</span>, <span style=\"color: #00af00; text-decoration-color: #00af00\">141</span>, <span style=\"color: #00af00; text-decoration-color: #00af00\">64</span>)        │         <span style=\"color: #00af00; text-decoration-color: #00af00\">2,624</span> │\n",
       "├─────────────────────────────────┼────────────────────────┼───────────────┤\n",
       "│ max_pooling1d_8 (<span style=\"color: #0087ff; text-decoration-color: #0087ff\">MaxPooling1D</span>)  │ (<span style=\"color: #00d7ff; text-decoration-color: #00d7ff\">None</span>, <span style=\"color: #00af00; text-decoration-color: #00af00\">47</span>, <span style=\"color: #00af00; text-decoration-color: #00af00\">64</span>)         │             <span style=\"color: #00af00; text-decoration-color: #00af00\">0</span> │\n",
       "├─────────────────────────────────┼────────────────────────┼───────────────┤\n",
       "│ conv1d_17 (<span style=\"color: #0087ff; text-decoration-color: #0087ff\">Conv1D</span>)              │ (<span style=\"color: #00d7ff; text-decoration-color: #00d7ff\">None</span>, <span style=\"color: #00af00; text-decoration-color: #00af00\">38</span>, <span style=\"color: #00af00; text-decoration-color: #00af00\">128</span>)        │        <span style=\"color: #00af00; text-decoration-color: #00af00\">82,048</span> │\n",
       "├─────────────────────────────────┼────────────────────────┼───────────────┤\n",
       "│ global_max_pooling1d_7          │ (<span style=\"color: #00d7ff; text-decoration-color: #00d7ff\">None</span>, <span style=\"color: #00af00; text-decoration-color: #00af00\">128</span>)            │             <span style=\"color: #00af00; text-decoration-color: #00af00\">0</span> │\n",
       "│ (<span style=\"color: #0087ff; text-decoration-color: #0087ff\">GlobalMaxPooling1D</span>)            │                        │               │\n",
       "├─────────────────────────────────┼────────────────────────┼───────────────┤\n",
       "│ dense_14 (<span style=\"color: #0087ff; text-decoration-color: #0087ff\">Dense</span>)                │ (<span style=\"color: #00d7ff; text-decoration-color: #00d7ff\">None</span>, <span style=\"color: #00af00; text-decoration-color: #00af00\">64</span>)             │         <span style=\"color: #00af00; text-decoration-color: #00af00\">8,256</span> │\n",
       "├─────────────────────────────────┼────────────────────────┼───────────────┤\n",
       "│ dense_15 (<span style=\"color: #0087ff; text-decoration-color: #0087ff\">Dense</span>)                │ (<span style=\"color: #00d7ff; text-decoration-color: #00d7ff\">None</span>, <span style=\"color: #00af00; text-decoration-color: #00af00\">1</span>)              │            <span style=\"color: #00af00; text-decoration-color: #00af00\">65</span> │\n",
       "└─────────────────────────────────┴────────────────────────┴───────────────┘\n",
       "</pre>\n"
      ],
      "text/plain": [
       "┏━━━━━━━━━━━━━━━━━━━━━━━━━━━━━━━━━┳━━━━━━━━━━━━━━━━━━━━━━━━┳━━━━━━━━━━━━━━━┓\n",
       "┃\u001b[1m \u001b[0m\u001b[1mLayer (type)                   \u001b[0m\u001b[1m \u001b[0m┃\u001b[1m \u001b[0m\u001b[1mOutput Shape          \u001b[0m\u001b[1m \u001b[0m┃\u001b[1m \u001b[0m\u001b[1m      Param #\u001b[0m\u001b[1m \u001b[0m┃\n",
       "┡━━━━━━━━━━━━━━━━━━━━━━━━━━━━━━━━━╇━━━━━━━━━━━━━━━━━━━━━━━━╇━━━━━━━━━━━━━━━┩\n",
       "│ conv1d_16 (\u001b[38;5;33mConv1D\u001b[0m)              │ (\u001b[38;5;45mNone\u001b[0m, \u001b[38;5;34m141\u001b[0m, \u001b[38;5;34m64\u001b[0m)        │         \u001b[38;5;34m2,624\u001b[0m │\n",
       "├─────────────────────────────────┼────────────────────────┼───────────────┤\n",
       "│ max_pooling1d_8 (\u001b[38;5;33mMaxPooling1D\u001b[0m)  │ (\u001b[38;5;45mNone\u001b[0m, \u001b[38;5;34m47\u001b[0m, \u001b[38;5;34m64\u001b[0m)         │             \u001b[38;5;34m0\u001b[0m │\n",
       "├─────────────────────────────────┼────────────────────────┼───────────────┤\n",
       "│ conv1d_17 (\u001b[38;5;33mConv1D\u001b[0m)              │ (\u001b[38;5;45mNone\u001b[0m, \u001b[38;5;34m38\u001b[0m, \u001b[38;5;34m128\u001b[0m)        │        \u001b[38;5;34m82,048\u001b[0m │\n",
       "├─────────────────────────────────┼────────────────────────┼───────────────┤\n",
       "│ global_max_pooling1d_7          │ (\u001b[38;5;45mNone\u001b[0m, \u001b[38;5;34m128\u001b[0m)            │             \u001b[38;5;34m0\u001b[0m │\n",
       "│ (\u001b[38;5;33mGlobalMaxPooling1D\u001b[0m)            │                        │               │\n",
       "├─────────────────────────────────┼────────────────────────┼───────────────┤\n",
       "│ dense_14 (\u001b[38;5;33mDense\u001b[0m)                │ (\u001b[38;5;45mNone\u001b[0m, \u001b[38;5;34m64\u001b[0m)             │         \u001b[38;5;34m8,256\u001b[0m │\n",
       "├─────────────────────────────────┼────────────────────────┼───────────────┤\n",
       "│ dense_15 (\u001b[38;5;33mDense\u001b[0m)                │ (\u001b[38;5;45mNone\u001b[0m, \u001b[38;5;34m1\u001b[0m)              │            \u001b[38;5;34m65\u001b[0m │\n",
       "└─────────────────────────────────┴────────────────────────┴───────────────┘\n"
      ]
     },
     "metadata": {},
     "output_type": "display_data"
    },
    {
     "data": {
      "text/html": [
       "<pre style=\"white-space:pre;overflow-x:auto;line-height:normal;font-family:Menlo,'DejaVu Sans Mono',consolas,'Courier New',monospace\"><span style=\"font-weight: bold\"> Total params: </span><span style=\"color: #00af00; text-decoration-color: #00af00\">92,993</span> (363.25 KB)\n",
       "</pre>\n"
      ],
      "text/plain": [
       "\u001b[1m Total params: \u001b[0m\u001b[38;5;34m92,993\u001b[0m (363.25 KB)\n"
      ]
     },
     "metadata": {},
     "output_type": "display_data"
    },
    {
     "data": {
      "text/html": [
       "<pre style=\"white-space:pre;overflow-x:auto;line-height:normal;font-family:Menlo,'DejaVu Sans Mono',consolas,'Courier New',monospace\"><span style=\"font-weight: bold\"> Trainable params: </span><span style=\"color: #00af00; text-decoration-color: #00af00\">92,993</span> (363.25 KB)\n",
       "</pre>\n"
      ],
      "text/plain": [
       "\u001b[1m Trainable params: \u001b[0m\u001b[38;5;34m92,993\u001b[0m (363.25 KB)\n"
      ]
     },
     "metadata": {},
     "output_type": "display_data"
    },
    {
     "data": {
      "text/html": [
       "<pre style=\"white-space:pre;overflow-x:auto;line-height:normal;font-family:Menlo,'DejaVu Sans Mono',consolas,'Courier New',monospace\"><span style=\"font-weight: bold\"> Non-trainable params: </span><span style=\"color: #00af00; text-decoration-color: #00af00\">0</span> (0.00 B)\n",
       "</pre>\n"
      ],
      "text/plain": [
       "\u001b[1m Non-trainable params: \u001b[0m\u001b[38;5;34m0\u001b[0m (0.00 B)\n"
      ]
     },
     "metadata": {},
     "output_type": "display_data"
    },
    {
     "name": "stdout",
     "output_type": "stream",
     "text": [
      "Epoch 1/30\n",
      "\u001b[1m3945/3945\u001b[0m \u001b[32m━━━━━━━━━━━━━━━━━━━━\u001b[0m\u001b[37m\u001b[0m \u001b[1m15s\u001b[0m 4ms/step - loss: 0.9934 - mae: 0.6324 - mse: 0.9934 - rmse: 0.9967 - val_loss: 0.9404 - val_mae: 0.5970 - val_mse: 0.9404 - val_rmse: 0.9698\n",
      "Epoch 2/30\n",
      "\u001b[1m3945/3945\u001b[0m \u001b[32m━━━━━━━━━━━━━━━━━━━━\u001b[0m\u001b[37m\u001b[0m \u001b[1m14s\u001b[0m 4ms/step - loss: 0.9772 - mae: 0.6212 - mse: 0.9772 - rmse: 0.9885 - val_loss: 0.9396 - val_mae: 0.5978 - val_mse: 0.9396 - val_rmse: 0.9693\n",
      "Epoch 3/30\n",
      "\u001b[1m3945/3945\u001b[0m \u001b[32m━━━━━━━━━━━━━━━━━━━━\u001b[0m\u001b[37m\u001b[0m \u001b[1m14s\u001b[0m 3ms/step - loss: 0.9816 - mae: 0.6213 - mse: 0.9816 - rmse: 0.9907 - val_loss: 0.9372 - val_mae: 0.6116 - val_mse: 0.9372 - val_rmse: 0.9681\n",
      "Epoch 4/30\n",
      "\u001b[1m3945/3945\u001b[0m \u001b[32m━━━━━━━━━━━━━━━━━━━━\u001b[0m\u001b[37m\u001b[0m \u001b[1m14s\u001b[0m 4ms/step - loss: 0.9580 - mae: 0.6125 - mse: 0.9580 - rmse: 0.9784 - val_loss: 0.9387 - val_mae: 0.6308 - val_mse: 0.9387 - val_rmse: 0.9689\n",
      "Epoch 5/30\n",
      "\u001b[1m3945/3945\u001b[0m \u001b[32m━━━━━━━━━━━━━━━━━━━━\u001b[0m\u001b[37m\u001b[0m \u001b[1m14s\u001b[0m 4ms/step - loss: 0.9775 - mae: 0.6194 - mse: 0.9775 - rmse: 0.9886 - val_loss: 0.9379 - val_mae: 0.6246 - val_mse: 0.9379 - val_rmse: 0.9685\n",
      "Epoch 6/30\n",
      "\u001b[1m3945/3945\u001b[0m \u001b[32m━━━━━━━━━━━━━━━━━━━━\u001b[0m\u001b[37m\u001b[0m \u001b[1m14s\u001b[0m 4ms/step - loss: 0.9648 - mae: 0.6148 - mse: 0.9648 - rmse: 0.9822 - val_loss: 0.9377 - val_mae: 0.6106 - val_mse: 0.9377 - val_rmse: 0.9683\n",
      "Epoch 7/30\n",
      "\u001b[1m3945/3945\u001b[0m \u001b[32m━━━━━━━━━━━━━━━━━━━━\u001b[0m\u001b[37m\u001b[0m \u001b[1m14s\u001b[0m 4ms/step - loss: 0.9661 - mae: 0.6146 - mse: 0.9661 - rmse: 0.9828 - val_loss: 0.9516 - val_mae: 0.6534 - val_mse: 0.9516 - val_rmse: 0.9755\n",
      "Epoch 8/30\n",
      "\u001b[1m3945/3945\u001b[0m \u001b[32m━━━━━━━━━━━━━━━━━━━━\u001b[0m\u001b[37m\u001b[0m \u001b[1m14s\u001b[0m 4ms/step - loss: 0.9617 - mae: 0.6172 - mse: 0.9617 - rmse: 0.9806 - val_loss: 0.9490 - val_mae: 0.6341 - val_mse: 0.9490 - val_rmse: 0.9742\n",
      "Epoch 9/30\n",
      "\u001b[1m3945/3945\u001b[0m \u001b[32m━━━━━━━━━━━━━━━━━━━━\u001b[0m\u001b[37m\u001b[0m \u001b[1m14s\u001b[0m 4ms/step - loss: 0.9431 - mae: 0.6110 - mse: 0.9431 - rmse: 0.9711 - val_loss: 0.9550 - val_mae: 0.5851 - val_mse: 0.9550 - val_rmse: 0.9773\n",
      "Epoch 10/30\n",
      "\u001b[1m3945/3945\u001b[0m \u001b[32m━━━━━━━━━━━━━━━━━━━━\u001b[0m\u001b[37m\u001b[0m \u001b[1m14s\u001b[0m 4ms/step - loss: 0.9254 - mae: 0.6015 - mse: 0.9254 - rmse: 0.9619 - val_loss: 0.9540 - val_mae: 0.5880 - val_mse: 0.9540 - val_rmse: 0.9767\n",
      "Epoch 11/30\n",
      "\u001b[1m3945/3945\u001b[0m \u001b[32m━━━━━━━━━━━━━━━━━━━━\u001b[0m\u001b[37m\u001b[0m \u001b[1m14s\u001b[0m 4ms/step - loss: 0.8956 - mae: 0.5905 - mse: 0.8956 - rmse: 0.9463 - val_loss: 0.9683 - val_mae: 0.6119 - val_mse: 0.9683 - val_rmse: 0.9840\n",
      "Epoch 12/30\n",
      "\u001b[1m3945/3945\u001b[0m \u001b[32m━━━━━━━━━━━━━━━━━━━━\u001b[0m\u001b[37m\u001b[0m \u001b[1m15s\u001b[0m 4ms/step - loss: 0.8755 - mae: 0.5847 - mse: 0.8755 - rmse: 0.9357 - val_loss: 1.0126 - val_mae: 0.6174 - val_mse: 1.0126 - val_rmse: 1.0063\n",
      "Epoch 13/30\n",
      "\u001b[1m3945/3945\u001b[0m \u001b[32m━━━━━━━━━━━━━━━━━━━━\u001b[0m\u001b[37m\u001b[0m \u001b[1m15s\u001b[0m 4ms/step - loss: 0.8285 - mae: 0.5725 - mse: 0.8285 - rmse: 0.9102 - val_loss: 1.0598 - val_mae: 0.6576 - val_mse: 1.0598 - val_rmse: 1.0295\n",
      "Epoch 14/30\n",
      "\u001b[1m3945/3945\u001b[0m \u001b[32m━━━━━━━━━━━━━━━━━━━━\u001b[0m\u001b[37m\u001b[0m \u001b[1m14s\u001b[0m 4ms/step - loss: 0.7881 - mae: 0.5586 - mse: 0.7881 - rmse: 0.8877 - val_loss: 1.0053 - val_mae: 0.6069 - val_mse: 1.0053 - val_rmse: 1.0027\n",
      "Epoch 15/30\n",
      "\u001b[1m3945/3945\u001b[0m \u001b[32m━━━━━━━━━━━━━━━━━━━━\u001b[0m\u001b[37m\u001b[0m \u001b[1m14s\u001b[0m 4ms/step - loss: 0.7565 - mae: 0.5469 - mse: 0.7565 - rmse: 0.8697 - val_loss: 1.0200 - val_mae: 0.6194 - val_mse: 1.0200 - val_rmse: 1.0100\n",
      "Epoch 16/30\n",
      "\u001b[1m3945/3945\u001b[0m \u001b[32m━━━━━━━━━━━━━━━━━━━━\u001b[0m\u001b[37m\u001b[0m \u001b[1m15s\u001b[0m 4ms/step - loss: 0.7403 - mae: 0.5445 - mse: 0.7403 - rmse: 0.8603 - val_loss: 1.0676 - val_mae: 0.6397 - val_mse: 1.0676 - val_rmse: 1.0332\n",
      "Epoch 17/30\n",
      "\u001b[1m3945/3945\u001b[0m \u001b[32m━━━━━━━━━━━━━━━━━━━━\u001b[0m\u001b[37m\u001b[0m \u001b[1m15s\u001b[0m 4ms/step - loss: 0.7276 - mae: 0.5376 - mse: 0.7276 - rmse: 0.8529 - val_loss: 1.0469 - val_mae: 0.6177 - val_mse: 1.0469 - val_rmse: 1.0232\n",
      "Epoch 18/30\n",
      "\u001b[1m3945/3945\u001b[0m \u001b[32m━━━━━━━━━━━━━━━━━━━━\u001b[0m\u001b[37m\u001b[0m \u001b[1m14s\u001b[0m 4ms/step - loss: 0.7010 - mae: 0.5297 - mse: 0.7010 - rmse: 0.8371 - val_loss: 1.0620 - val_mae: 0.6201 - val_mse: 1.0620 - val_rmse: 1.0305\n",
      "Epoch 19/30\n",
      "\u001b[1m3945/3945\u001b[0m \u001b[32m━━━━━━━━━━━━━━━━━━━━\u001b[0m\u001b[37m\u001b[0m \u001b[1m14s\u001b[0m 4ms/step - loss: 0.6815 - mae: 0.5220 - mse: 0.6815 - rmse: 0.8253 - val_loss: 1.0418 - val_mae: 0.6093 - val_mse: 1.0418 - val_rmse: 1.0207\n",
      "Epoch 20/30\n",
      "\u001b[1m3945/3945\u001b[0m \u001b[32m━━━━━━━━━━━━━━━━━━━━\u001b[0m\u001b[37m\u001b[0m \u001b[1m14s\u001b[0m 4ms/step - loss: 0.6743 - mae: 0.5185 - mse: 0.6743 - rmse: 0.8211 - val_loss: 1.0214 - val_mae: 0.6063 - val_mse: 1.0214 - val_rmse: 1.0107\n",
      "Epoch 21/30\n",
      "\u001b[1m3945/3945\u001b[0m \u001b[32m━━━━━━━━━━━━━━━━━━━━\u001b[0m\u001b[37m\u001b[0m \u001b[1m15s\u001b[0m 4ms/step - loss: 0.6603 - mae: 0.5128 - mse: 0.6603 - rmse: 0.8125 - val_loss: 1.0689 - val_mae: 0.6147 - val_mse: 1.0689 - val_rmse: 1.0339\n",
      "Epoch 22/30\n",
      "\u001b[1m3945/3945\u001b[0m \u001b[32m━━━━━━━━━━━━━━━━━━━━\u001b[0m\u001b[37m\u001b[0m \u001b[1m15s\u001b[0m 4ms/step - loss: 0.6371 - mae: 0.5056 - mse: 0.6371 - rmse: 0.7981 - val_loss: 1.1474 - val_mae: 0.6507 - val_mse: 1.1474 - val_rmse: 1.0712\n",
      "Epoch 23/30\n",
      "\u001b[1m3945/3945\u001b[0m \u001b[32m━━━━━━━━━━━━━━━━━━━━\u001b[0m\u001b[37m\u001b[0m \u001b[1m14s\u001b[0m 4ms/step - loss: 0.6272 - mae: 0.5012 - mse: 0.6272 - rmse: 0.7919 - val_loss: 1.0876 - val_mae: 0.6214 - val_mse: 1.0876 - val_rmse: 1.0429\n",
      "Epoch 24/30\n",
      "\u001b[1m3945/3945\u001b[0m \u001b[32m━━━━━━━━━━━━━━━━━━━━\u001b[0m\u001b[37m\u001b[0m \u001b[1m15s\u001b[0m 4ms/step - loss: 0.6124 - mae: 0.4952 - mse: 0.6124 - rmse: 0.7825 - val_loss: 1.0505 - val_mae: 0.6150 - val_mse: 1.0505 - val_rmse: 1.0250\n",
      "Epoch 25/30\n",
      "\u001b[1m3945/3945\u001b[0m \u001b[32m━━━━━━━━━━━━━━━━━━━━\u001b[0m\u001b[37m\u001b[0m \u001b[1m15s\u001b[0m 4ms/step - loss: 0.6276 - mae: 0.5018 - mse: 0.6276 - rmse: 0.7922 - val_loss: 1.1251 - val_mae: 0.6361 - val_mse: 1.1251 - val_rmse: 1.0607\n",
      "Epoch 26/30\n",
      "\u001b[1m3945/3945\u001b[0m \u001b[32m━━━━━━━━━━━━━━━━━━━━\u001b[0m\u001b[37m\u001b[0m \u001b[1m15s\u001b[0m 4ms/step - loss: 0.6098 - mae: 0.4943 - mse: 0.6098 - rmse: 0.7809 - val_loss: 1.1400 - val_mae: 0.6390 - val_mse: 1.1400 - val_rmse: 1.0677\n",
      "Epoch 27/30\n",
      "\u001b[1m3945/3945\u001b[0m \u001b[32m━━━━━━━━━━━━━━━━━━━━\u001b[0m\u001b[37m\u001b[0m \u001b[1m16s\u001b[0m 4ms/step - loss: 0.5889 - mae: 0.4855 - mse: 0.5889 - rmse: 0.7673 - val_loss: 1.0809 - val_mae: 0.6148 - val_mse: 1.0809 - val_rmse: 1.0397\n",
      "Epoch 28/30\n",
      "\u001b[1m3945/3945\u001b[0m \u001b[32m━━━━━━━━━━━━━━━━━━━━\u001b[0m\u001b[37m\u001b[0m \u001b[1m15s\u001b[0m 4ms/step - loss: 0.5791 - mae: 0.4836 - mse: 0.5791 - rmse: 0.7609 - val_loss: 1.1519 - val_mae: 0.6574 - val_mse: 1.1519 - val_rmse: 1.0733\n",
      "Epoch 29/30\n",
      "\u001b[1m3945/3945\u001b[0m \u001b[32m━━━━━━━━━━━━━━━━━━━━\u001b[0m\u001b[37m\u001b[0m \u001b[1m15s\u001b[0m 4ms/step - loss: 0.5819 - mae: 0.4855 - mse: 0.5819 - rmse: 0.7627 - val_loss: 1.1039 - val_mae: 0.6259 - val_mse: 1.1039 - val_rmse: 1.0507\n",
      "Epoch 30/30\n",
      "\u001b[1m3945/3945\u001b[0m \u001b[32m━━━━━━━━━━━━━━━━━━━━\u001b[0m\u001b[37m\u001b[0m \u001b[1m14s\u001b[0m 4ms/step - loss: 0.5635 - mae: 0.4753 - mse: 0.5635 - rmse: 0.7505 - val_loss: 1.1013 - val_mae: 0.6159 - val_mse: 1.1013 - val_rmse: 1.0494\n"
     ]
    },
    {
     "data": {
      "text/plain": [
       "<keras.src.callbacks.history.History at 0x383f4cb60>"
      ]
     },
     "execution_count": 24,
     "metadata": {},
     "output_type": "execute_result"
    }
   ],
   "source": [
    "\"\"\"Split the Data\"\"\"\n",
    "from sklearn.model_selection import train_test_split\n",
    "import tensorflow as tf\n",
    "from tensorflow.keras import layers, models, metrics\n",
    "X_train , X_test , Y_train, Y_test = train_test_split(X, Y, test_size = 0.2, random_state=42) #20% in test data set, 80%train, random_state ensure reprodcibility\n",
    "\n",
    "#Starting a simple CNN model\n",
    "\n",
    "model = models.Sequential([\n",
    "    layers.Conv1D(64,10, activation = \"relu\", input_shape = (150,4)),\n",
    "    layers.MaxPooling1D(3),\n",
    "    layers.Conv1D(128, 10, activation = \"relu\"),\n",
    "    layers.GlobalMaxPooling1D(),\n",
    "    layers.Dense(64, activation = \"relu\"),\n",
    "    layers.Dense(1, activation = \"linear\")\n",
    "])\n",
    "    \n",
    "model.compile(optimizer = 'adam',\n",
    "              loss = 'mean_squared_error',\n",
    "              metrics = [\n",
    "                  metrics.MeanAbsoluteError(name= \"mae\"),\n",
    "                  metrics.MeanSquaredError(name = \"mse\"),\n",
    "                  metrics.RootMeanSquaredError(name = \"rmse\")\n",
    "              ])\n",
    "model.summary()\n",
    "\n",
    "\n",
    "#Train the model\n",
    "model.fit(X_train, Y_train, epochs = 30, batch_size=32, validation_data = (X_test, Y_test))\n",
    "\n"
   ]
  },
  {
   "cell_type": "code",
   "execution_count": null,
   "id": "aafed1f4-7098-4c32-9b2a-07ac2a07ddd9",
   "metadata": {},
   "outputs": [],
   "source": []
  }
 ],
 "metadata": {
  "kernelspec": {
   "display_name": "Python 3 (ipykernel)",
   "language": "python",
   "name": "python3"
  },
  "language_info": {
   "codemirror_mode": {
    "name": "ipython",
    "version": 3
   },
   "file_extension": ".py",
   "mimetype": "text/x-python",
   "name": "python",
   "nbconvert_exporter": "python",
   "pygments_lexer": "ipython3",
   "version": "3.12.11"
  }
 },
 "nbformat": 4,
 "nbformat_minor": 5
}
